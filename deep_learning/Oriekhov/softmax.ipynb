{
 "cells": [
  {
   "cell_type": "markdown",
   "metadata": {
    "toc": true
   },
   "source": [
    "<h1>Table of Contents<span class=\"tocSkip\"></span></h1>\n",
    "<div class=\"toc\"><ul class=\"toc-item\"><li><span><a href=\"#Softmax-exercise\" data-toc-modified-id=\"Softmax-exercise-1\"><span class=\"toc-item-num\">1&nbsp;&nbsp;</span>Softmax exercise</a></span><ul class=\"toc-item\"><li><span><a href=\"#Softmax-Classifier\" data-toc-modified-id=\"Softmax-Classifier-1.1\"><span class=\"toc-item-num\">1.1&nbsp;&nbsp;</span>Softmax Classifier</a></span><ul class=\"toc-item\"><li><span><a href=\"#code-for-details\" data-toc-modified-id=\"code-for-details-1.1.1\"><span class=\"toc-item-num\">1.1.1&nbsp;&nbsp;</span>code for details</a></span></li><li><span><a href=\"#Nested-loops-implementation\" data-toc-modified-id=\"Nested-loops-implementation-1.1.2\"><span class=\"toc-item-num\">1.1.2&nbsp;&nbsp;</span>Nested loops implementation</a></span></li></ul></li><li><span><a href=\"#Inline-Question-1:\" data-toc-modified-id=\"Inline-Question-1:-1.2\"><span class=\"toc-item-num\">1.2&nbsp;&nbsp;</span>Inline Question 1:</a></span><ul class=\"toc-item\"><li><span><a href=\"#Loop-implementation-and-check\" data-toc-modified-id=\"Loop-implementation-and-check-1.2.1\"><span class=\"toc-item-num\">1.2.1&nbsp;&nbsp;</span>Loop implementation and check</a></span></li><li><span><a href=\"#Compare-vectorized-and-loop-implementations\" data-toc-modified-id=\"Compare-vectorized-and-loop-implementations-1.2.2\"><span class=\"toc-item-num\">1.2.2&nbsp;&nbsp;</span>Compare vectorized and loop implementations</a></span></li><li><span><a href=\"#Tune-parameters\" data-toc-modified-id=\"Tune-parameters-1.2.3\"><span class=\"toc-item-num\">1.2.3&nbsp;&nbsp;</span>Tune parameters</a></span></li><li><span><a href=\"#Evaluation-on-test-set\" data-toc-modified-id=\"Evaluation-on-test-set-1.2.4\"><span class=\"toc-item-num\">1.2.4&nbsp;&nbsp;</span>Evaluation on test set</a></span></li><li><span><a href=\"#Visualize-learned-rate\" data-toc-modified-id=\"Visualize-learned-rate-1.2.5\"><span class=\"toc-item-num\">1.2.5&nbsp;&nbsp;</span>Visualize learned rate</a></span></li></ul></li></ul></li></ul></div>"
   ]
  },
  {
   "cell_type": "markdown",
   "metadata": {},
   "source": [
    "# Softmax exercise\n",
    "\n",
    "*Complete and hand in this completed worksheet (including its outputs and any supporting code outside of the worksheet) with your assignment submission. For more details see the [assignments page](http://vision.stanford.edu/teaching/cs231n/assignments.html) on the course website.*\n",
    "\n",
    "This exercise is analogous to the SVM exercise. You will:\n",
    "\n",
    "- implement a fully-vectorized **loss function** for the Softmax classifier\n",
    "- implement the fully-vectorized expression for its **analytic gradient**\n",
    "- **check your implementation** with numerical gradient\n",
    "- use a validation set to **tune the learning rate and regularization** strength\n",
    "- **optimize** the loss function with **SGD**\n",
    "- **visualize** the final learned weights\n"
   ]
  },
  {
   "cell_type": "code",
   "execution_count": 2,
   "metadata": {
    "ExecuteTime": {
     "end_time": "2019-11-03T19:47:02.063917Z",
     "start_time": "2019-11-03T19:47:01.996955Z"
    }
   },
   "outputs": [
    {
     "name": "stdout",
     "output_type": "stream",
     "text": [
      "The autoreload extension is already loaded. To reload it, use:\n",
      "  %reload_ext autoreload\n"
     ]
    }
   ],
   "source": [
    "from __future__ import print_function\n",
    "\n",
    "import random\n",
    "import numpy as np\n",
    "from cs231n.data_utils import load_CIFAR10\n",
    "import matplotlib.pyplot as plt\n",
    "\n",
    "%matplotlib inline\n",
    "plt.rcParams['figure.figsize'] = (10.0, 8.0) # set default size of plots\n",
    "plt.rcParams['image.interpolation'] = 'nearest'\n",
    "plt.rcParams['image.cmap'] = 'gray'\n",
    "\n",
    "# for auto-reloading external modules\n",
    "# see http://stackoverflow.com/questions/1907993/autoreload-of-modules-in-ipython\n",
    "%load_ext autoreload\n",
    "%autoreload 2"
   ]
  },
  {
   "cell_type": "code",
   "execution_count": 3,
   "metadata": {
    "ExecuteTime": {
     "end_time": "2019-11-03T19:54:33.488416Z",
     "start_time": "2019-11-03T19:54:27.600787Z"
    }
   },
   "outputs": [
    {
     "name": "stdout",
     "output_type": "stream",
     "text": [
      "Train data shape:  (49000, 3073)\n",
      "Train labels shape:  (49000,)\n",
      "Validation data shape:  (1000, 3073)\n",
      "Validation labels shape:  (1000,)\n",
      "Test data shape:  (1000, 3073)\n",
      "Test labels shape:  (1000,)\n",
      "dev data shape:  (500, 3073)\n",
      "dev labels shape:  (500,)\n"
     ]
    }
   ],
   "source": [
    "def get_CIFAR10_data(num_training=49000, num_validation=1000, num_test=1000, num_dev=500):\n",
    "    \"\"\"\n",
    "    Load the CIFAR-10 dataset from disk and perform preprocessing to prepare\n",
    "    it for the linear classifier. These are the same steps as we used for the\n",
    "    SVM, but condensed to a single function.  \n",
    "    \"\"\"\n",
    "    # Load the raw CIFAR-10 data\n",
    "    cifar10_dir = 'cs231n/datasets/cifar-10-batches-py'\n",
    "    cifar10_train = cifar10_dir + '/data_batch'\n",
    "    cifar10_test = cifar10_dir + '/test_batch'\n",
    "    X_train, y_train, X_test, y_test = load_CIFAR10(cifar10_train, cifar10_test)\n",
    "    \n",
    "    # subsample the data\n",
    "    mask = list(range(num_training, num_training + num_validation))\n",
    "    X_val = X_train[mask]\n",
    "    y_val = y_train[mask]\n",
    "    mask = list(range(num_training))\n",
    "    X_train = X_train[mask]\n",
    "    y_train = y_train[mask]\n",
    "    mask = list(range(num_test))\n",
    "    X_test = X_test[mask]\n",
    "    y_test = y_test[mask]\n",
    "    mask = np.random.choice(num_training, num_dev, replace=False)\n",
    "    X_dev = X_train[mask]\n",
    "    y_dev = y_train[mask]\n",
    "    \n",
    "    # Preprocessing: reshape the image data into rows\n",
    "    X_train = np.reshape(X_train, (X_train.shape[0], -1))\n",
    "    X_val = np.reshape(X_val, (X_val.shape[0], -1))\n",
    "    X_test = np.reshape(X_test, (X_test.shape[0], -1))\n",
    "    X_dev = np.reshape(X_dev, (X_dev.shape[0], -1))\n",
    "    \n",
    "    # Normalize the data: subtract the mean image\n",
    "    mean_image = np.mean(X_train, axis = 0)\n",
    "    X_train -= mean_image\n",
    "    X_val -= mean_image\n",
    "    X_test -= mean_image\n",
    "    X_dev -= mean_image\n",
    "    \n",
    "    # add bias dimension and transform into columns\n",
    "    X_train = np.hstack([X_train, np.ones((X_train.shape[0], 1))])\n",
    "    X_val = np.hstack([X_val, np.ones((X_val.shape[0], 1))])\n",
    "    X_test = np.hstack([X_test, np.ones((X_test.shape[0], 1))])\n",
    "    X_dev = np.hstack([X_dev, np.ones((X_dev.shape[0], 1))])\n",
    "    \n",
    "    return X_train, y_train, X_val, y_val, X_test, y_test, X_dev, y_dev\n",
    "\n",
    "\n",
    "# Invoke the above function to get our data.\n",
    "X_train, y_train, X_val, y_val, X_test, y_test, X_dev, y_dev = get_CIFAR10_data()\n",
    "print('Train data shape: ', X_train.shape)\n",
    "print('Train labels shape: ', y_train.shape)\n",
    "print('Validation data shape: ', X_val.shape)\n",
    "print('Validation labels shape: ', y_val.shape)\n",
    "print('Test data shape: ', X_test.shape)\n",
    "print('Test labels shape: ', y_test.shape)\n",
    "print('dev data shape: ', X_dev.shape)\n",
    "print('dev labels shape: ', y_dev.shape)"
   ]
  },
  {
   "cell_type": "markdown",
   "metadata": {},
   "source": [
    "## Softmax Classifier\n",
    "\n",
    "Your code for this section will all be written inside **cs231n/classifiers/softmax.py**. \n"
   ]
  },
  {
   "cell_type": "markdown",
   "metadata": {},
   "source": [
    "### code for details"
   ]
  },
  {
   "cell_type": "code",
   "execution_count": null,
   "metadata": {},
   "outputs": [],
   "source": [
    "from random import shuffle\n",
    "from past.builtins import xrange\n",
    "\n",
    "def softmax_loss_naive(W, X, y, reg):\n",
    "  \"\"\"\n",
    "  Softmax loss function, naive implementation (with loops)\n",
    "\n",
    "  Inputs have dimension D, there are C classes, and we operate on minibatches\n",
    "  of N examples.\n",
    "\n",
    "  Inputs:\n",
    "  - W: A numpy array of shape (D, C) containing weights.\n",
    "  - X: A numpy array of shape (N, D) containing a minibatch of data.\n",
    "  - y: A numpy array of shape (N,) containing training labels; y[i] = c means\n",
    "    that X[i] has label c, where 0 <= c < C.\n",
    "  - reg: (float) regularization strength\n",
    "\n",
    "  Returns a tuple of:\n",
    "  - loss as single float\n",
    "  - gradient with respect to weights W; an array of same shape as W\n",
    "  \"\"\"\n",
    "  # Initialize the loss and gradient to zero.\n",
    "  loss = 0.0\n",
    "  dW = np.zeros_like(W)\n",
    "  num_train = X.shape[0]\n",
    "\n",
    "  #############################################################################\n",
    "  # TODO: Compute the softmax loss and its gradient using explicit loops.     #\n",
    "  # Store the loss in loss and the gradient in dW. If you are not careful     #\n",
    "  # here, it is easy to run into numeric instability. Don't forget the        #\n",
    "  # regularization!                                                           #\n",
    "  #############################################################################\n",
    "  for i in range(num_train):\n",
    "      scores = X[i,:].dot(W)\n",
    "      probabilities = np.exp(scores)/np.sum(np.exp(scores))\n",
    "\n",
    "      loss -= np.log(probabilities[y[i]])\n",
    "\n",
    "      gradient_q = probabilities.reshape(1,-1)\n",
    "      gradient_q[0, y[i]] += -1\n",
    "\n",
    "      dW += X[i,:].reshape(-1,1).dot(gradient_q)\n",
    "\n",
    "  loss /= num_train\n",
    "  loss += reg * np.sum(W*W)\n",
    "\n",
    "  dW /= num_train\n",
    "  dW += 2 * reg * W\n",
    "  #############################################################################\n",
    "  #                          END OF YOUR CODE                                 #\n",
    "  #############################################################################\n",
    "\n",
    "  return loss, dW\n",
    "\n",
    "\n",
    "def softmax_loss_vectorized(W, X, y, reg):\n",
    "  \"\"\"\n",
    "  Softmax loss function, vectorized version.\n",
    "\n",
    "  Inputs and outputs are the same as softmax_loss_naive.\n",
    "  \"\"\"\n",
    "  # Initialize the loss and gradient to zero.\n",
    "  loss = 0.0\n",
    "  dW = np.zeros_like(W)\n",
    "  num_train = X.shape[0]\n",
    "\n",
    "  #############################################################################\n",
    "  # TODO: Compute the softmax loss and its gradient using no explicit loops.  #\n",
    "  # Store the loss in loss and the gradient in dW. If you are not careful     #\n",
    "  # here, it is easy to run into numeric instability. Don't forget the        #\n",
    "  # regularization!                                                           #\n",
    "  #############################################################################\n",
    "  scores = X.dot(W)\n",
    "  exp_scores = np.exp(scores)\n",
    "  probabilities = exp_scores / np.sum(exp_scores, axis = 1).reshape(-1, 1)\n",
    "\n",
    "  loss -= np.sum(np.log(probabilities[range(num_train), y])) #data loss\n",
    "\n",
    "  gradient_q = probabilities\n",
    "  gradient_q[range(num_train), y] += -1\n",
    "  dW = X.T.dot(gradient_q)\n",
    "\n",
    "  loss /= num_train\n",
    "  loss += reg * np.sum(W*W)\n",
    "\n",
    "  dW /= num_train\n",
    "  dW += 2 * reg * W\n",
    "  #############################################################################\n",
    "  #                          END OF YOUR CODE                                 #\n",
    "  #############################################################################\n",
    "\n",
    "  return loss, dW"
   ]
  },
  {
   "cell_type": "markdown",
   "metadata": {},
   "source": [
    "### Nested loops implementation"
   ]
  },
  {
   "cell_type": "code",
   "execution_count": 4,
   "metadata": {
    "ExecuteTime": {
     "end_time": "2019-11-03T20:00:17.377062Z",
     "start_time": "2019-11-03T20:00:16.966296Z"
    }
   },
   "outputs": [
    {
     "name": "stdout",
     "output_type": "stream",
     "text": [
      "loss: 2.355897\n",
      "sanity check: 2.302585\n"
     ]
    }
   ],
   "source": [
    "# First implement the naive softmax loss function with nested loops.\n",
    "# Open the file cs231n/classifiers/softmax.py and implement the\n",
    "# softmax_loss_naive function.\n",
    "\n",
    "from cs231n.classifiers.softmax import softmax_loss_naive\n",
    "import time\n",
    "\n",
    "# Generate a random softmax weight matrix and use it to compute the loss.\n",
    "W = np.random.randn(3073, 10) * 0.0001\n",
    "loss, grad = softmax_loss_naive(W, X_dev, y_dev, 0.0)\n",
    "\n",
    "# As a rough sanity check, our loss should be something close to -log(0.1).\n",
    "print('loss: %f' % loss)\n",
    "print('sanity check: %f' % (-np.log(0.1)))"
   ]
  },
  {
   "cell_type": "markdown",
   "metadata": {},
   "source": [
    "## Inline Question 1:\n",
    "Why do we expect our loss to be close to -log(0.1)? Explain briefly.**\n",
    "\n",
    "**Your answer:** *10 classes are there and initially scores are almost same for all classes and so inside the -log denominator is 10 times the numerator and so we expect it to be close to -log(0.1)*\n"
   ]
  },
  {
   "cell_type": "markdown",
   "metadata": {},
   "source": [
    "### Loop implementation and check"
   ]
  },
  {
   "cell_type": "code",
   "execution_count": 5,
   "metadata": {
    "ExecuteTime": {
     "end_time": "2019-11-03T20:04:35.279497Z",
     "start_time": "2019-11-03T20:04:32.526076Z"
    },
    "scrolled": true
   },
   "outputs": [
    {
     "name": "stdout",
     "output_type": "stream",
     "text": [
      "numerical: -0.959883 analytic: -0.959883, relative error: 3.490606e-08\n",
      "numerical: 1.328026 analytic: 1.328026, relative error: 1.220768e-08\n",
      "numerical: 1.787318 analytic: 1.787318, relative error: 5.374961e-09\n",
      "numerical: 1.766693 analytic: 1.766693, relative error: 3.011076e-08\n",
      "numerical: -1.968563 analytic: -1.968563, relative error: 2.135493e-08\n",
      "numerical: 0.935833 analytic: 0.935833, relative error: 1.454285e-08\n",
      "numerical: 1.503495 analytic: 1.503495, relative error: 3.874718e-08\n",
      "numerical: 2.684472 analytic: 2.684472, relative error: 1.343545e-08\n",
      "numerical: 0.704491 analytic: 0.704491, relative error: 3.932627e-08\n",
      "numerical: 2.511196 analytic: 2.511196, relative error: 2.926923e-08\n",
      "numerical: -2.327206 analytic: -2.327206, relative error: 3.805568e-09\n",
      "numerical: 2.178743 analytic: 2.178743, relative error: 3.847384e-08\n",
      "numerical: -1.183526 analytic: -1.183526, relative error: 3.306158e-08\n",
      "numerical: -3.510644 analytic: -3.510644, relative error: 2.144026e-08\n",
      "numerical: 1.401862 analytic: 1.401862, relative error: 2.520572e-09\n",
      "numerical: 0.313968 analytic: 0.313968, relative error: 1.330822e-07\n",
      "numerical: 1.359789 analytic: 1.359789, relative error: 2.235498e-08\n",
      "numerical: -2.096998 analytic: -2.096998, relative error: 2.552625e-09\n",
      "numerical: -2.456773 analytic: -2.456773, relative error: 1.912831e-08\n",
      "numerical: -0.790274 analytic: -0.790274, relative error: 1.535738e-08\n"
     ]
    }
   ],
   "source": [
    "# Complete the implementation of softmax_loss_naive and implement a (naive)\n",
    "# version of the gradient that uses nested loops.\n",
    "loss, grad = softmax_loss_naive(W, X_dev, y_dev, 0.0)\n",
    "\n",
    "# As we did for the SVM, use numeric gradient checking as a debugging tool.\n",
    "# The numeric gradient should be close to the analytic gradient.\n",
    "from cs231n.gradient_check import grad_check_sparse\n",
    "f = lambda w: softmax_loss_naive(w, X_dev, y_dev, 0.0)[0]\n",
    "grad_numerical = grad_check_sparse(f, W, grad, 10)\n",
    "\n",
    "# similar to SVM case, do another gradient check with regularization\n",
    "loss, grad = softmax_loss_naive(W, X_dev, y_dev, 5e1)\n",
    "f = lambda w: softmax_loss_naive(w, X_dev, y_dev, 5e1)[0]\n",
    "grad_numerical = grad_check_sparse(f, W, grad, 10)"
   ]
  },
  {
   "cell_type": "markdown",
   "metadata": {},
   "source": [
    "### Compare vectorized and loop implementations"
   ]
  },
  {
   "cell_type": "code",
   "execution_count": 6,
   "metadata": {
    "ExecuteTime": {
     "end_time": "2019-11-03T20:05:13.248773Z",
     "start_time": "2019-11-03T20:05:13.078870Z"
    }
   },
   "outputs": [
    {
     "name": "stdout",
     "output_type": "stream",
     "text": [
      "naive loss: 2.355897e+00 computed in 0.074956s\n",
      "vectorized loss: 2.355897e+00 computed in 0.014000s\n",
      "Loss difference: 0.000000\n",
      "Gradient difference: 0.000000\n"
     ]
    }
   ],
   "source": [
    "# Now that we have a naive implementation of the softmax loss function and its gradient,\n",
    "# implement a vectorized version in softmax_loss_vectorized.\n",
    "# The two versions should compute the same results, but the vectorized version should be\n",
    "# much faster.\n",
    "tic = time.time()\n",
    "loss_naive, grad_naive = softmax_loss_naive(W, X_dev, y_dev, 0.000005)\n",
    "toc = time.time()\n",
    "print('naive loss: %e computed in %fs' % (loss_naive, toc - tic))\n",
    "\n",
    "from cs231n.classifiers.softmax import softmax_loss_vectorized\n",
    "tic = time.time()\n",
    "loss_vectorized, grad_vectorized = softmax_loss_vectorized(W, X_dev, y_dev, 0.000005)\n",
    "toc = time.time()\n",
    "print('vectorized loss: %e computed in %fs' % (loss_vectorized, toc - tic))\n",
    "\n",
    "# As we did for the SVM, we use the Frobenius norm to compare the two versions\n",
    "# of the gradient.\n",
    "grad_difference = np.linalg.norm(grad_naive - grad_vectorized, ord='fro')\n",
    "print('Loss difference: %f' % np.abs(loss_naive - loss_vectorized))\n",
    "print('Gradient difference: %f' % grad_difference)"
   ]
  },
  {
   "cell_type": "markdown",
   "metadata": {},
   "source": [
    "### Tune parameters"
   ]
  },
  {
   "cell_type": "code",
   "execution_count": 7,
   "metadata": {
    "ExecuteTime": {
     "end_time": "2019-11-03T20:10:08.894613Z",
     "start_time": "2019-11-03T20:07:01.847636Z"
    }
   },
   "outputs": [
    {
     "name": "stdout",
     "output_type": "stream",
     "text": [
      "lr 1.000000e-07 reg 1.000000e+04 train accuracy: 0.254857 val accuracy: 0.274000\n",
      "lr 1.000000e-07 reg 2.500000e+04 train accuracy: 0.307816 val accuracy: 0.318000\n",
      "lr 1.000000e-07 reg 4.000000e+04 train accuracy: 0.310816 val accuracy: 0.315000\n",
      "lr 1.000000e-07 reg 5.000000e+04 train accuracy: 0.309796 val accuracy: 0.330000\n",
      "lr 2.000000e-07 reg 1.000000e+04 train accuracy: 0.330755 val accuracy: 0.336000\n",
      "lr 2.000000e-07 reg 2.500000e+04 train accuracy: 0.334122 val accuracy: 0.359000\n",
      "lr 2.000000e-07 reg 4.000000e+04 train accuracy: 0.318735 val accuracy: 0.332000\n",
      "lr 2.000000e-07 reg 5.000000e+04 train accuracy: 0.307959 val accuracy: 0.321000\n",
      "lr 3.000000e-07 reg 1.000000e+04 train accuracy: 0.349837 val accuracy: 0.364000\n",
      "lr 3.000000e-07 reg 2.500000e+04 train accuracy: 0.331061 val accuracy: 0.353000\n",
      "lr 3.000000e-07 reg 4.000000e+04 train accuracy: 0.316102 val accuracy: 0.332000\n",
      "lr 3.000000e-07 reg 5.000000e+04 train accuracy: 0.310551 val accuracy: 0.322000\n",
      "lr 4.000000e-07 reg 1.000000e+04 train accuracy: 0.357367 val accuracy: 0.381000\n",
      "lr 4.000000e-07 reg 2.500000e+04 train accuracy: 0.329694 val accuracy: 0.343000\n",
      "lr 4.000000e-07 reg 4.000000e+04 train accuracy: 0.314980 val accuracy: 0.341000\n",
      "lr 4.000000e-07 reg 5.000000e+04 train accuracy: 0.301429 val accuracy: 0.313000\n",
      "lr 5.000000e-07 reg 1.000000e+04 train accuracy: 0.352367 val accuracy: 0.368000\n",
      "lr 5.000000e-07 reg 2.500000e+04 train accuracy: 0.316755 val accuracy: 0.334000\n",
      "lr 5.000000e-07 reg 4.000000e+04 train accuracy: 0.314837 val accuracy: 0.327000\n",
      "lr 5.000000e-07 reg 5.000000e+04 train accuracy: 0.294735 val accuracy: 0.311000\n",
      "best validation accuracy achieved during cross-validation: 0.381000\n"
     ]
    }
   ],
   "source": [
    "# Use the validation set to tune hyperparameters (regularization strength and\n",
    "# learning rate). You should experiment with different ranges for the learning\n",
    "# rates and regularization strengths; if you are careful you should be able to\n",
    "# get a classification accuracy of over 0.35 on the validation set.\n",
    "from cs231n.classifiers import Softmax\n",
    "results = {}\n",
    "best_val = -1\n",
    "best_softmax = None\n",
    "learning_rates = [1e-7, 2e-7, 3e-7, 4e-7, 5e-7]\n",
    "regularization_strengths = [1e4, 2.5e4, 4e4, 5e4]\n",
    "\n",
    "################################################################################\n",
    "# TODO:                                                                        #\n",
    "# Use the validation set to set the learning rate and regularization strength. #\n",
    "# This should be identical to the validation that you did for the SVM; save    #\n",
    "# the best trained softmax classifer in best_softmax.                          #\n",
    "################################################################################\n",
    "for lr_rt in learning_rates:\n",
    "    for reg in regularization_strengths:\n",
    "        softmax = Softmax()\n",
    "        loss = softmax.train(X_train, y_train, learning_rate=lr_rt, reg=reg,\n",
    "                      num_iters=500, verbose=False)\n",
    "        \n",
    "        tr_acc = np.mean(y_train == softmax.predict(X_train))\n",
    "        val_acc = np.mean(y_val == softmax.predict(X_val))\n",
    "        \n",
    "        results[(lr_rt, reg)] = (tr_acc, val_acc)\n",
    "        \n",
    "        if (val_acc > best_val):\n",
    "            best_val = val_acc\n",
    "            best_softmax = softmax\n",
    "################################################################################\n",
    "#                              END OF YOUR CODE                                #\n",
    "################################################################################\n",
    "    \n",
    "# Print out results.\n",
    "for lr, reg in sorted(results):\n",
    "    train_accuracy, val_accuracy = results[(lr, reg)]\n",
    "    print('lr %e reg %e train accuracy: %f val accuracy: %f' % (\n",
    "                lr, reg, train_accuracy, val_accuracy))\n",
    "    \n",
    "print('best validation accuracy achieved during cross-validation: %f' % best_val)"
   ]
  },
  {
   "cell_type": "markdown",
   "metadata": {},
   "source": [
    "### Evaluation on test set"
   ]
  },
  {
   "cell_type": "code",
   "execution_count": 8,
   "metadata": {
    "ExecuteTime": {
     "end_time": "2019-11-03T20:10:37.037513Z",
     "start_time": "2019-11-03T20:10:36.967552Z"
    },
    "scrolled": true
   },
   "outputs": [
    {
     "name": "stdout",
     "output_type": "stream",
     "text": [
      "softmax on raw pixels final test set accuracy: 0.373000\n"
     ]
    }
   ],
   "source": [
    "# evaluate on test set\n",
    "# Evaluate the best softmax on test set\n",
    "y_test_pred = best_softmax.predict(X_test)\n",
    "test_accuracy = np.mean(y_test == y_test_pred)\n",
    "print('softmax on raw pixels final test set accuracy: %f' % (test_accuracy, ))"
   ]
  },
  {
   "cell_type": "markdown",
   "metadata": {},
   "source": [
    "### Visualize learned rate"
   ]
  },
  {
   "cell_type": "code",
   "execution_count": 9,
   "metadata": {
    "ExecuteTime": {
     "end_time": "2019-11-03T20:10:42.882186Z",
     "start_time": "2019-11-03T20:10:42.324489Z"
    }
   },
   "outputs": [
    {
     "data": {
      "image/png": "[encoded data removed]",
      "text/plain": [
       "<Figure size 720x576 with 10 Axes>"
      ]
     },
     "metadata": {
      "needs_background": "light"
     },
     "output_type": "display_data"
    }
   ],
   "source": [
    "# Visualize the learned weights for each class\n",
    "w = best_softmax.W[:-1,:] # strip out the bias\n",
    "w = w.reshape(32, 32, 3, 10)\n",
    "\n",
    "w_min, w_max = np.min(w), np.max(w)\n",
    "\n",
    "classes = ['plane', 'car', 'bird', 'cat', 'deer', 'dog', 'frog', 'horse', 'ship', 'truck']\n",
    "for i in range(10):\n",
    "    plt.subplot(2, 5, i + 1)\n",
    "    \n",
    "    # Rescale the weights to be between 0 and 255\n",
    "    wimg = 255.0 * (w[:, :, :, i].squeeze() - w_min) / (w_max - w_min)\n",
    "    plt.imshow(wimg.astype('uint8'))\n",
    "    plt.axis('off')\n",
    "    plt.title(classes[i])"
   ]
  },
  {
   "cell_type": "code",
   "execution_count": null,
   "metadata": {},
   "outputs": [],
   "source": []
  }
 ],
 "metadata": {
  "kernelspec": {
   "display_name": "Python 3",
   "language": "python",
   "name": "python3"
  },
  "language_info": {
   "codemirror_mode": {
    "name": "ipython",
    "version": 3
   },
   "file_extension": ".py",
   "mimetype": "text/x-python",
   "name": "python",
   "nbconvert_exporter": "python",
   "pygments_lexer": "ipython3",
   "version": "3.7.4"
  },
  "toc": {
   "base_numbering": 1,
   "nav_menu": {},
   "number_sections": true,
   "sideBar": true,
   "skip_h1_title": false,
   "title_cell": "Table of Contents",
   "title_sidebar": "Contents",
   "toc_cell": true,
   "toc_position": {},
   "toc_section_display": true,
   "toc_window_display": false
  }
 },
 "nbformat": 4,
 "nbformat_minor": 1
}
